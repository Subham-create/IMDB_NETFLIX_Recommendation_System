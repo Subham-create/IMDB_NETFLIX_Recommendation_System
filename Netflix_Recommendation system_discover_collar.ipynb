{
 "cells": [
  {
   "cell_type": "markdown",
   "metadata": {},
   "source": [
    "### PROBLEM STATEMENT\n",
    "### Build a content based movie recommender system with natural language processing.The function should take movie name as input and should return top 3 recommended movies."
   ]
  },
  {
   "cell_type": "code",
   "execution_count": 175,
   "metadata": {},
   "outputs": [],
   "source": [
    "import numpy as np\n",
    "import pandas as pd\n",
    "import matplotlib.pyplot as plt\n",
    "import seaborn as sns\n",
    "import warnings\n",
    "warnings.filterwarnings(\"ignore\")"
   ]
  },
  {
   "cell_type": "code",
   "execution_count": 176,
   "metadata": {},
   "outputs": [
    {
     "data": {
      "text/html": [
       "<div>\n",
       "<style scoped>\n",
       "    .dataframe tbody tr th:only-of-type {\n",
       "        vertical-align: middle;\n",
       "    }\n",
       "\n",
       "    .dataframe tbody tr th {\n",
       "        vertical-align: top;\n",
       "    }\n",
       "\n",
       "    .dataframe thead th {\n",
       "        text-align: right;\n",
       "    }\n",
       "</style>\n",
       "<table border=\"1\" class=\"dataframe\">\n",
       "  <thead>\n",
       "    <tr style=\"text-align: right;\">\n",
       "      <th></th>\n",
       "      <th>show_id</th>\n",
       "      <th>type</th>\n",
       "      <th>title</th>\n",
       "      <th>director</th>\n",
       "      <th>cast</th>\n",
       "      <th>country</th>\n",
       "      <th>date_added</th>\n",
       "      <th>release_year</th>\n",
       "      <th>rating</th>\n",
       "      <th>duration</th>\n",
       "      <th>listed_in</th>\n",
       "      <th>description</th>\n",
       "    </tr>\n",
       "  </thead>\n",
       "  <tbody>\n",
       "    <tr>\n",
       "      <th>0</th>\n",
       "      <td>81088285</td>\n",
       "      <td>Movie</td>\n",
       "      <td>The Mayo Clinic</td>\n",
       "      <td>Ken Burns, Christopher Loren Ewers, Erik Ewers</td>\n",
       "      <td>Peter Coyote</td>\n",
       "      <td>United States</td>\n",
       "      <td>April 19, 2019</td>\n",
       "      <td>2018</td>\n",
       "      <td>TV-14</td>\n",
       "      <td>116 min</td>\n",
       "      <td>Documentaries</td>\n",
       "      <td>A look at how a world-renowned medical institu...</td>\n",
       "    </tr>\n",
       "    <tr>\n",
       "      <th>1</th>\n",
       "      <td>81077597</td>\n",
       "      <td>Movie</td>\n",
       "      <td>I Am</td>\n",
       "      <td>Onir</td>\n",
       "      <td>Juhi Chawla, Rahul Bose, Nandita Das, Sanjay S...</td>\n",
       "      <td>India, Japan</td>\n",
       "      <td>March 4, 2019</td>\n",
       "      <td>2010</td>\n",
       "      <td>TV-MA</td>\n",
       "      <td>106 min</td>\n",
       "      <td>Dramas, Independent Movies, International Movies</td>\n",
       "      <td>Four individuals in modern India grapple with ...</td>\n",
       "    </tr>\n",
       "    <tr>\n",
       "      <th>2</th>\n",
       "      <td>1150871</td>\n",
       "      <td>Movie</td>\n",
       "      <td>Love Jones</td>\n",
       "      <td>Theodore Witcher</td>\n",
       "      <td>Larenz Tate, Nia Long, Isaiah Washington, Lisa...</td>\n",
       "      <td>United States</td>\n",
       "      <td>November 1, 2019</td>\n",
       "      <td>1997</td>\n",
       "      <td>R</td>\n",
       "      <td>109 min</td>\n",
       "      <td>Comedies, Dramas, Independent Movies</td>\n",
       "      <td>In this urban romantic comedy set in Chicago, ...</td>\n",
       "    </tr>\n",
       "    <tr>\n",
       "      <th>3</th>\n",
       "      <td>20077944</td>\n",
       "      <td>Movie</td>\n",
       "      <td>Ghayal</td>\n",
       "      <td>Rajkumar Santoshi</td>\n",
       "      <td>Sunny Deol, Meenakshi Sheshadri, Amrish Puri, ...</td>\n",
       "      <td>India</td>\n",
       "      <td>December 31, 2019</td>\n",
       "      <td>1990</td>\n",
       "      <td>TV-14</td>\n",
       "      <td>163 min</td>\n",
       "      <td>Action &amp; Adventure, Dramas, International Movies</td>\n",
       "      <td>Framed for his older brother's murder, a boxer...</td>\n",
       "    </tr>\n",
       "    <tr>\n",
       "      <th>4</th>\n",
       "      <td>80223779</td>\n",
       "      <td>Movie</td>\n",
       "      <td>Marriage Story</td>\n",
       "      <td>Noah Baumbach</td>\n",
       "      <td>Scarlett Johansson, Adam Driver, Laura Dern, A...</td>\n",
       "      <td>United States, United Kingdom</td>\n",
       "      <td>December 6, 2019</td>\n",
       "      <td>2019</td>\n",
       "      <td>R</td>\n",
       "      <td>137 min</td>\n",
       "      <td>Dramas</td>\n",
       "      <td>Academy Award-nominated filmmaker Noah Baumbac...</td>\n",
       "    </tr>\n",
       "  </tbody>\n",
       "</table>\n",
       "</div>"
      ],
      "text/plain": [
       "    show_id   type            title  \\\n",
       "0  81088285  Movie  The Mayo Clinic   \n",
       "1  81077597  Movie             I Am   \n",
       "2   1150871  Movie       Love Jones   \n",
       "3  20077944  Movie           Ghayal   \n",
       "4  80223779  Movie   Marriage Story   \n",
       "\n",
       "                                         director  \\\n",
       "0  Ken Burns, Christopher Loren Ewers, Erik Ewers   \n",
       "1                                            Onir   \n",
       "2                                Theodore Witcher   \n",
       "3                               Rajkumar Santoshi   \n",
       "4                                   Noah Baumbach   \n",
       "\n",
       "                                                cast  \\\n",
       "0                                       Peter Coyote   \n",
       "1  Juhi Chawla, Rahul Bose, Nandita Das, Sanjay S...   \n",
       "2  Larenz Tate, Nia Long, Isaiah Washington, Lisa...   \n",
       "3  Sunny Deol, Meenakshi Sheshadri, Amrish Puri, ...   \n",
       "4  Scarlett Johansson, Adam Driver, Laura Dern, A...   \n",
       "\n",
       "                         country         date_added  release_year rating  \\\n",
       "0                  United States     April 19, 2019          2018  TV-14   \n",
       "1                   India, Japan      March 4, 2019          2010  TV-MA   \n",
       "2                  United States   November 1, 2019          1997      R   \n",
       "3                          India  December 31, 2019          1990  TV-14   \n",
       "4  United States, United Kingdom   December 6, 2019          2019      R   \n",
       "\n",
       "  duration                                         listed_in  \\\n",
       "0  116 min                                     Documentaries   \n",
       "1  106 min  Dramas, Independent Movies, International Movies   \n",
       "2  109 min              Comedies, Dramas, Independent Movies   \n",
       "3  163 min  Action & Adventure, Dramas, International Movies   \n",
       "4  137 min                                            Dramas   \n",
       "\n",
       "                                         description  \n",
       "0  A look at how a world-renowned medical institu...  \n",
       "1  Four individuals in modern India grapple with ...  \n",
       "2  In this urban romantic comedy set in Chicago, ...  \n",
       "3  Framed for his older brother's murder, a boxer...  \n",
       "4  Academy Award-nominated filmmaker Noah Baumbac...  "
      ]
     },
     "execution_count": 176,
     "metadata": {},
     "output_type": "execute_result"
    }
   ],
   "source": [
    "df=pd.read_csv(\"NETFLIX TITLES.csv\")\n",
    "df.head()"
   ]
  },
  {
   "cell_type": "code",
   "execution_count": 177,
   "metadata": {},
   "outputs": [
    {
     "name": "stdout",
     "output_type": "stream",
     "text": [
      "<class 'pandas.core.frame.DataFrame'>\n",
      "RangeIndex: 4675 entries, 0 to 4674\n",
      "Data columns (total 12 columns):\n",
      " #   Column        Non-Null Count  Dtype \n",
      "---  ------        --------------  ----- \n",
      " 0   show_id       4675 non-null   int64 \n",
      " 1   type          4675 non-null   object\n",
      " 2   title         4675 non-null   object\n",
      " 3   director      3232 non-null   object\n",
      " 4   cast          4236 non-null   object\n",
      " 5   country       4326 non-null   object\n",
      " 6   date_added    4669 non-null   object\n",
      " 7   release_year  4675 non-null   int64 \n",
      " 8   rating        4667 non-null   object\n",
      " 9   duration      4675 non-null   object\n",
      " 10  listed_in     4675 non-null   object\n",
      " 11  description   4675 non-null   object\n",
      "dtypes: int64(2), object(10)\n",
      "memory usage: 438.4+ KB\n"
     ]
    }
   ],
   "source": [
    "df.info()"
   ]
  },
  {
   "cell_type": "code",
   "execution_count": 178,
   "metadata": {},
   "outputs": [],
   "source": [
    "## Let's import Rake to extract keyword\n",
    "from rake_nltk import Rake\n",
    "from sklearn.metrics.pairwise import cosine_similarity\n",
    "from sklearn.feature_extraction.text import CountVectorizer"
   ]
  },
  {
   "cell_type": "code",
   "execution_count": 179,
   "metadata": {},
   "outputs": [],
   "source": [
    "# Before we move for feature extraction let's impute the missing values and do some feature engineering\n",
    "df=df[['title','type','director','rating','listed_in','description']]\n"
   ]
  },
  {
   "cell_type": "code",
   "execution_count": 180,
   "metadata": {},
   "outputs": [
    {
     "data": {
      "text/html": [
       "<div>\n",
       "<style scoped>\n",
       "    .dataframe tbody tr th:only-of-type {\n",
       "        vertical-align: middle;\n",
       "    }\n",
       "\n",
       "    .dataframe tbody tr th {\n",
       "        vertical-align: top;\n",
       "    }\n",
       "\n",
       "    .dataframe thead th {\n",
       "        text-align: right;\n",
       "    }\n",
       "</style>\n",
       "<table border=\"1\" class=\"dataframe\">\n",
       "  <thead>\n",
       "    <tr style=\"text-align: right;\">\n",
       "      <th></th>\n",
       "      <th>title</th>\n",
       "      <th>type</th>\n",
       "      <th>director</th>\n",
       "      <th>rating</th>\n",
       "      <th>listed_in</th>\n",
       "      <th>description</th>\n",
       "    </tr>\n",
       "  </thead>\n",
       "  <tbody>\n",
       "    <tr>\n",
       "      <th>0</th>\n",
       "      <td>The Mayo Clinic</td>\n",
       "      <td>Movie</td>\n",
       "      <td>Ken Burns, Christopher Loren Ewers, Erik Ewers</td>\n",
       "      <td>TV-14</td>\n",
       "      <td>Documentaries</td>\n",
       "      <td>A look at how a world-renowned medical institu...</td>\n",
       "    </tr>\n",
       "    <tr>\n",
       "      <th>1</th>\n",
       "      <td>I Am</td>\n",
       "      <td>Movie</td>\n",
       "      <td>Onir</td>\n",
       "      <td>TV-MA</td>\n",
       "      <td>Dramas, Independent Movies, International Movies</td>\n",
       "      <td>Four individuals in modern India grapple with ...</td>\n",
       "    </tr>\n",
       "    <tr>\n",
       "      <th>2</th>\n",
       "      <td>Love Jones</td>\n",
       "      <td>Movie</td>\n",
       "      <td>Theodore Witcher</td>\n",
       "      <td>R</td>\n",
       "      <td>Comedies, Dramas, Independent Movies</td>\n",
       "      <td>In this urban romantic comedy set in Chicago, ...</td>\n",
       "    </tr>\n",
       "    <tr>\n",
       "      <th>3</th>\n",
       "      <td>Ghayal</td>\n",
       "      <td>Movie</td>\n",
       "      <td>Rajkumar Santoshi</td>\n",
       "      <td>TV-14</td>\n",
       "      <td>Action &amp; Adventure, Dramas, International Movies</td>\n",
       "      <td>Framed for his older brother's murder, a boxer...</td>\n",
       "    </tr>\n",
       "    <tr>\n",
       "      <th>4</th>\n",
       "      <td>Marriage Story</td>\n",
       "      <td>Movie</td>\n",
       "      <td>Noah Baumbach</td>\n",
       "      <td>R</td>\n",
       "      <td>Dramas</td>\n",
       "      <td>Academy Award-nominated filmmaker Noah Baumbac...</td>\n",
       "    </tr>\n",
       "  </tbody>\n",
       "</table>\n",
       "</div>"
      ],
      "text/plain": [
       "             title   type                                        director  \\\n",
       "0  The Mayo Clinic  Movie  Ken Burns, Christopher Loren Ewers, Erik Ewers   \n",
       "1             I Am  Movie                                            Onir   \n",
       "2       Love Jones  Movie                                Theodore Witcher   \n",
       "3           Ghayal  Movie                               Rajkumar Santoshi   \n",
       "4   Marriage Story  Movie                                   Noah Baumbach   \n",
       "\n",
       "  rating                                         listed_in  \\\n",
       "0  TV-14                                     Documentaries   \n",
       "1  TV-MA  Dramas, Independent Movies, International Movies   \n",
       "2      R              Comedies, Dramas, Independent Movies   \n",
       "3  TV-14  Action & Adventure, Dramas, International Movies   \n",
       "4      R                                            Dramas   \n",
       "\n",
       "                                         description  \n",
       "0  A look at how a world-renowned medical institu...  \n",
       "1  Four individuals in modern India grapple with ...  \n",
       "2  In this urban romantic comedy set in Chicago, ...  \n",
       "3  Framed for his older brother's murder, a boxer...  \n",
       "4  Academy Award-nominated filmmaker Noah Baumbac...  "
      ]
     },
     "execution_count": 180,
     "metadata": {},
     "output_type": "execute_result"
    }
   ],
   "source": [
    "df.head()"
   ]
  },
  {
   "cell_type": "code",
   "execution_count": 181,
   "metadata": {},
   "outputs": [],
   "source": [
    "df['Key_words'] = ''\n",
    "r = Rake()\n",
    "for index, row in df.iterrows():\n",
    "    r.extract_keywords_from_text(row['description'])\n",
    "    key_words_dict_scores = r.get_word_degrees()\n",
    "    row['Key_words'] = list(key_words_dict_scores.keys())"
   ]
  },
  {
   "cell_type": "code",
   "execution_count": 182,
   "metadata": {},
   "outputs": [],
   "source": [
    "df['director'] = df['director'].fillna('')"
   ]
  },
  {
   "cell_type": "code",
   "execution_count": 183,
   "metadata": {},
   "outputs": [
    {
     "name": "stdout",
     "output_type": "stream",
     "text": [
      "<class 'pandas.core.frame.DataFrame'>\n",
      "RangeIndex: 4675 entries, 0 to 4674\n",
      "Data columns (total 7 columns):\n",
      " #   Column       Non-Null Count  Dtype \n",
      "---  ------       --------------  ----- \n",
      " 0   title        4675 non-null   object\n",
      " 1   type         4675 non-null   object\n",
      " 2   director     4675 non-null   object\n",
      " 3   rating       4667 non-null   object\n",
      " 4   listed_in    4675 non-null   object\n",
      " 5   description  4675 non-null   object\n",
      " 6   Key_words    4675 non-null   object\n",
      "dtypes: object(7)\n",
      "memory usage: 255.8+ KB\n"
     ]
    }
   ],
   "source": [
    "df.info()"
   ]
  },
  {
   "cell_type": "code",
   "execution_count": 184,
   "metadata": {},
   "outputs": [],
   "source": [
    "df['listed_in'] = df['listed_in'].map(lambda x: x.split(','))\n",
    "df['director'] = df['director'].map(lambda x: x.split(','))\n",
    "for index, row in df.iterrows():\n",
    "    row['listed_in'] = [x.lower().replace(' ','') for x in row['listed_in']]\n",
    "    row['director'] = [x.lower().replace(' ','') for x in row['director']]"
   ]
  },
  {
   "cell_type": "code",
   "execution_count": 185,
   "metadata": {},
   "outputs": [],
   "source": [
    "df['Bag_of_words'] = ''\n",
    "columns = ['listed_in', 'director','Key_words']\n",
    "for index, row in df.iterrows():\n",
    "    words = ''\n",
    "    for col in columns:\n",
    "        words += ' '.join(row[col]) + ' '\n",
    "    row['Bag_of_words'] = words\n",
    "    \n",
    "df = df[['title','Bag_of_words']]"
   ]
  },
  {
   "cell_type": "code",
   "execution_count": 187,
   "metadata": {},
   "outputs": [
    {
     "name": "stdout",
     "output_type": "stream",
     "text": [
      "[[1.         0.         0.         ... 0.         0.         0.        ]\n",
      " [0.         1.         0.10814761 ... 0.         0.05129892 0.        ]\n",
      " [0.         0.10814761 1.         ... 0.         0.10540926 0.        ]\n",
      " ...\n",
      " [0.         0.         0.         ... 1.         0.         0.        ]\n",
      " [0.         0.05129892 0.10540926 ... 0.         1.         0.        ]\n",
      " [0.         0.         0.         ... 0.         0.         1.        ]]\n"
     ]
    }
   ],
   "source": [
    "count = CountVectorizer()\n",
    "count_matrix = count.fit_transform(df['Bag_of_words'])\n",
    "cosine_sim = cosine_similarity(count_matrix, count_matrix)\n",
    "print(cosine_sim)"
   ]
  },
  {
   "cell_type": "code",
   "execution_count": 188,
   "metadata": {},
   "outputs": [],
   "source": [
    "indices = pd.Series(df['title'])\n"
   ]
  },
  {
   "cell_type": "code",
   "execution_count": 193,
   "metadata": {},
   "outputs": [
    {
     "data": {
      "text/html": [
       "<div>\n",
       "<style scoped>\n",
       "    .dataframe tbody tr th:only-of-type {\n",
       "        vertical-align: middle;\n",
       "    }\n",
       "\n",
       "    .dataframe tbody tr th {\n",
       "        vertical-align: top;\n",
       "    }\n",
       "\n",
       "    .dataframe thead th {\n",
       "        text-align: right;\n",
       "    }\n",
       "</style>\n",
       "<table border=\"1\" class=\"dataframe\">\n",
       "  <thead>\n",
       "    <tr style=\"text-align: right;\">\n",
       "      <th></th>\n",
       "      <th>title</th>\n",
       "      <th>Bag_of_words</th>\n",
       "    </tr>\n",
       "  </thead>\n",
       "  <tbody>\n",
       "    <tr>\n",
       "      <th>0</th>\n",
       "      <td>The Mayo Clinic</td>\n",
       "      <td>documentaries kenburns christopherlorenewers e...</td>\n",
       "    </tr>\n",
       "    <tr>\n",
       "      <th>1</th>\n",
       "      <td>I Am</td>\n",
       "      <td>dramas independentmovies internationalmovies o...</td>\n",
       "    </tr>\n",
       "    <tr>\n",
       "      <th>2</th>\n",
       "      <td>Love Jones</td>\n",
       "      <td>comedies dramas independentmovies theodorewitc...</td>\n",
       "    </tr>\n",
       "    <tr>\n",
       "      <th>3</th>\n",
       "      <td>Ghayal</td>\n",
       "      <td>action&amp;adventure dramas internationalmovies ra...</td>\n",
       "    </tr>\n",
       "    <tr>\n",
       "      <th>4</th>\n",
       "      <td>Marriage Story</td>\n",
       "      <td>dramas noahbaumbach nominated filmmaker noah b...</td>\n",
       "    </tr>\n",
       "  </tbody>\n",
       "</table>\n",
       "</div>"
      ],
      "text/plain": [
       "             title                                       Bag_of_words\n",
       "0  The Mayo Clinic  documentaries kenburns christopherlorenewers e...\n",
       "1             I Am  dramas independentmovies internationalmovies o...\n",
       "2       Love Jones  comedies dramas independentmovies theodorewitc...\n",
       "3           Ghayal  action&adventure dramas internationalmovies ra...\n",
       "4   Marriage Story  dramas noahbaumbach nominated filmmaker noah b..."
      ]
     },
     "execution_count": 193,
     "metadata": {},
     "output_type": "execute_result"
    }
   ],
   "source": [
    "df.head()"
   ]
  },
  {
   "cell_type": "code",
   "execution_count": 196,
   "metadata": {},
   "outputs": [],
   "source": [
    "def recommend(title, cosine_sim = cosine_sim):\n",
    "    recommended_movies = []\n",
    "    idx = indices[indices == title].index[0]\n",
    "    score_series = pd.Series(cosine_sim[idx]).sort_values(ascending = False)\n",
    "    top_3_indices = list(score_series.iloc[1:4].index)\n",
    "    \n",
    "    for i in top_3_indices:\n",
    "        recommended_movies.append(list(df['title'])[i])\n",
    "        \n",
    "    return recommended_movies"
   ]
  },
  {
   "cell_type": "code",
   "execution_count": 199,
   "metadata": {},
   "outputs": [
    {
     "data": {
      "text/plain": [
       "['As Above, So Below', 'Lifechanger', '13 Sins']"
      ]
     },
     "execution_count": 199,
     "metadata": {},
     "output_type": "execute_result"
    }
   ],
   "source": [
    "recommend(\"The Last Exorcism\")"
   ]
  }
 ],
 "metadata": {
  "kernelspec": {
   "display_name": "Python 3",
   "language": "python",
   "name": "python3"
  },
  "language_info": {
   "codemirror_mode": {
    "name": "ipython",
    "version": 3
   },
   "file_extension": ".py",
   "mimetype": "text/x-python",
   "name": "python",
   "nbconvert_exporter": "python",
   "pygments_lexer": "ipython3",
   "version": "3.7.3"
  }
 },
 "nbformat": 4,
 "nbformat_minor": 4
}
